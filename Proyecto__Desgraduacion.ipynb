{
  "nbformat": 4,
  "nbformat_minor": 0,
  "metadata": {
    "colab": {
      "name": "Proyecto__Desgraduacion.ipynb",
      "provenance": [],
      "authorship_tag": "ABX9TyPuNXmGN7OxFghc5uImpP9w",
      "include_colab_link": true
    },
    "kernelspec": {
      "name": "python3",
      "display_name": "Python 3"
    },
    "language_info": {
      "name": "python"
    }
  },
  "cells": [
    {
      "cell_type": "markdown",
      "metadata": {
        "id": "view-in-github",
        "colab_type": "text"
      },
      "source": [
        "<a href=\"https://colab.research.google.com/github/Kevinruy/Proyecto_Desgraduacion/blob/main/Proyecto__Desgraduacion.ipynb\" target=\"_parent\"><img src=\"https://colab.research.google.com/assets/colab-badge.svg\" alt=\"Open In Colab\"/></a>"
      ]
    },
    {
      "cell_type": "code",
      "execution_count": 1,
      "metadata": {
        "id": "8699f75f",
        "colab": {
          "base_uri": "https://localhost:8080/"
        },
        "outputId": "a4162b7d-82d8-4f88-de88-e77ac387e2bc"
      },
      "outputs": [
        {
          "output_type": "stream",
          "name": "stdout",
          "text": [
            "Looking in indexes: https://pypi.org/simple, https://us-python.pkg.dev/colab-wheels/public/simple/\n",
            "Requirement already satisfied: plotly==5.4 in /usr/local/lib/python3.7/dist-packages (5.4.0)\n",
            "Requirement already satisfied: dash in /usr/local/lib/python3.7/dist-packages (2.6.0)\n",
            "Requirement already satisfied: jupyter-dash in /usr/local/lib/python3.7/dist-packages (0.4.2)\n",
            "Requirement already satisfied: six in /usr/local/lib/python3.7/dist-packages (from plotly==5.4) (1.15.0)\n",
            "Requirement already satisfied: tenacity>=6.2.0 in /usr/local/lib/python3.7/dist-packages (from plotly==5.4) (8.0.1)\n",
            "Requirement already satisfied: dash-core-components==2.0.0 in /usr/local/lib/python3.7/dist-packages (from dash) (2.0.0)\n",
            "Requirement already satisfied: Flask>=1.0.4 in /usr/local/lib/python3.7/dist-packages (from dash) (1.1.4)\n",
            "Requirement already satisfied: dash-html-components==2.0.0 in /usr/local/lib/python3.7/dist-packages (from dash) (2.0.0)\n",
            "Requirement already satisfied: dash-table==5.0.0 in /usr/local/lib/python3.7/dist-packages (from dash) (5.0.0)\n",
            "Requirement already satisfied: flask-compress in /usr/local/lib/python3.7/dist-packages (from dash) (1.12)\n",
            "Requirement already satisfied: itsdangerous<2.0,>=0.24 in /usr/local/lib/python3.7/dist-packages (from Flask>=1.0.4->dash) (1.1.0)\n",
            "Requirement already satisfied: click<8.0,>=5.1 in /usr/local/lib/python3.7/dist-packages (from Flask>=1.0.4->dash) (7.1.2)\n",
            "Requirement already satisfied: Jinja2<3.0,>=2.10.1 in /usr/local/lib/python3.7/dist-packages (from Flask>=1.0.4->dash) (2.11.3)\n",
            "Requirement already satisfied: Werkzeug<2.0,>=0.15 in /usr/local/lib/python3.7/dist-packages (from Flask>=1.0.4->dash) (1.0.1)\n",
            "Requirement already satisfied: MarkupSafe>=0.23 in /usr/local/lib/python3.7/dist-packages (from Jinja2<3.0,>=2.10.1->Flask>=1.0.4->dash) (2.0.1)\n",
            "Requirement already satisfied: retrying in /usr/local/lib/python3.7/dist-packages (from jupyter-dash) (1.3.3)\n",
            "Requirement already satisfied: ipykernel in /usr/local/lib/python3.7/dist-packages (from jupyter-dash) (4.10.1)\n",
            "Requirement already satisfied: requests in /usr/local/lib/python3.7/dist-packages (from jupyter-dash) (2.23.0)\n",
            "Requirement already satisfied: ipython in /usr/local/lib/python3.7/dist-packages (from jupyter-dash) (5.5.0)\n",
            "Requirement already satisfied: ansi2html in /usr/local/lib/python3.7/dist-packages (from jupyter-dash) (1.8.0)\n",
            "Requirement already satisfied: nest-asyncio in /usr/local/lib/python3.7/dist-packages (from jupyter-dash) (1.5.5)\n",
            "Requirement already satisfied: importlib-metadata in /usr/local/lib/python3.7/dist-packages (from ansi2html->jupyter-dash) (4.12.0)\n",
            "Requirement already satisfied: brotli in /usr/local/lib/python3.7/dist-packages (from flask-compress->dash) (1.0.9)\n",
            "Requirement already satisfied: zipp>=0.5 in /usr/local/lib/python3.7/dist-packages (from importlib-metadata->ansi2html->jupyter-dash) (3.8.1)\n",
            "Requirement already satisfied: typing-extensions>=3.6.4 in /usr/local/lib/python3.7/dist-packages (from importlib-metadata->ansi2html->jupyter-dash) (4.1.1)\n",
            "Requirement already satisfied: tornado>=4.0 in /usr/local/lib/python3.7/dist-packages (from ipykernel->jupyter-dash) (5.1.1)\n",
            "Requirement already satisfied: traitlets>=4.1.0 in /usr/local/lib/python3.7/dist-packages (from ipykernel->jupyter-dash) (5.1.1)\n",
            "Requirement already satisfied: jupyter-client in /usr/local/lib/python3.7/dist-packages (from ipykernel->jupyter-dash) (5.3.5)\n",
            "Requirement already satisfied: simplegeneric>0.8 in /usr/local/lib/python3.7/dist-packages (from ipython->jupyter-dash) (0.8.1)\n",
            "Requirement already satisfied: pygments in /usr/local/lib/python3.7/dist-packages (from ipython->jupyter-dash) (2.6.1)\n",
            "Requirement already satisfied: setuptools>=18.5 in /usr/local/lib/python3.7/dist-packages (from ipython->jupyter-dash) (57.4.0)\n",
            "Requirement already satisfied: pexpect in /usr/local/lib/python3.7/dist-packages (from ipython->jupyter-dash) (4.8.0)\n",
            "Requirement already satisfied: pickleshare in /usr/local/lib/python3.7/dist-packages (from ipython->jupyter-dash) (0.7.5)\n",
            "Requirement already satisfied: prompt-toolkit<2.0.0,>=1.0.4 in /usr/local/lib/python3.7/dist-packages (from ipython->jupyter-dash) (1.0.18)\n",
            "Requirement already satisfied: decorator in /usr/local/lib/python3.7/dist-packages (from ipython->jupyter-dash) (4.4.2)\n",
            "Requirement already satisfied: wcwidth in /usr/local/lib/python3.7/dist-packages (from prompt-toolkit<2.0.0,>=1.0.4->ipython->jupyter-dash) (0.2.5)\n",
            "Requirement already satisfied: pyzmq>=13 in /usr/local/lib/python3.7/dist-packages (from jupyter-client->ipykernel->jupyter-dash) (23.2.0)\n",
            "Requirement already satisfied: python-dateutil>=2.1 in /usr/local/lib/python3.7/dist-packages (from jupyter-client->ipykernel->jupyter-dash) (2.8.2)\n",
            "Requirement already satisfied: jupyter-core>=4.6.0 in /usr/local/lib/python3.7/dist-packages (from jupyter-client->ipykernel->jupyter-dash) (4.11.1)\n",
            "Requirement already satisfied: ptyprocess>=0.5 in /usr/local/lib/python3.7/dist-packages (from pexpect->ipython->jupyter-dash) (0.7.0)\n",
            "Requirement already satisfied: urllib3!=1.25.0,!=1.25.1,<1.26,>=1.21.1 in /usr/local/lib/python3.7/dist-packages (from requests->jupyter-dash) (1.24.3)\n",
            "Requirement already satisfied: idna<3,>=2.5 in /usr/local/lib/python3.7/dist-packages (from requests->jupyter-dash) (2.10)\n",
            "Requirement already satisfied: chardet<4,>=3.0.2 in /usr/local/lib/python3.7/dist-packages (from requests->jupyter-dash) (3.0.4)\n",
            "Requirement already satisfied: certifi>=2017.4.17 in /usr/local/lib/python3.7/dist-packages (from requests->jupyter-dash) (2022.6.15)\n"
          ]
        },
        {
          "output_type": "stream",
          "name": "stderr",
          "text": [
            "mkdir: cannot create directory ‘assets/’: File exists\n",
            "--2022-07-28 20:03:23--  https://gist.githubusercontent.com/escape-velocity-labs/17c3ba12aef542afe5055a859e0fbd98/raw/af9e2431fb69c76618aeec9940cd5fd6deab8b1f/style.css\n",
            "Resolving gist.githubusercontent.com (gist.githubusercontent.com)... 185.199.108.133, 185.199.109.133, 185.199.110.133, ...\n",
            "Connecting to gist.githubusercontent.com (gist.githubusercontent.com)|185.199.108.133|:443... connected.\n",
            "HTTP request sent, awaiting response... 200 OK\n",
            "Length: 3793 (3.7K) [text/plain]\n",
            "Saving to: ‘assets/style.css’\n",
            "\n",
            "     0K ...                                                   100% 31.1M=0s\n",
            "\n",
            "2022-07-28 20:03:23 (31.1 MB/s) - ‘assets/style.css’ saved [3793/3793]\n",
            "\n",
            "--2022-07-28 20:03:23--  https://gist.githubusercontent.com/escape-velocity-labs/81b8225d72306541018bf868f3a23436/raw/c14fdac538abc45f8e19c4828bb015aa931c41c5/web_data.csv\n",
            "Resolving gist.githubusercontent.com (gist.githubusercontent.com)... 185.199.108.133, 185.199.109.133, 185.199.110.133, ...\n",
            "Connecting to gist.githubusercontent.com (gist.githubusercontent.com)|185.199.108.133|:443... connected.\n",
            "HTTP request sent, awaiting response... 200 OK\n",
            "Length: 556285 (543K) [text/plain]\n",
            "Saving to: ‘web_data.csv’\n",
            "\n",
            "     0K .......... .......... .......... .......... ..........  9% 3.36M 0s\n",
            "    50K .......... .......... .......... .......... .......... 18% 4.53M 0s\n",
            "   100K .......... .......... .......... .......... .......... 27% 17.2M 0s\n",
            "   150K .......... .......... .......... .......... .......... 36% 18.3M 0s\n",
            "   200K .......... .......... .......... .......... .......... 46% 6.77M 0s\n",
            "   250K .......... .......... .......... .......... .......... 55% 24.1M 0s\n",
            "   300K .......... .......... .......... .......... .......... 64% 28.1M 0s\n",
            "   350K .......... .......... .......... .......... .......... 73% 27.9M 0s\n",
            "   400K .......... .......... .......... .......... .......... 82% 87.3M 0s\n",
            "   450K .......... .......... .......... .......... .......... 92% 32.3M 0s\n",
            "   500K .......... .......... .......... .......... ...       100% 8.16M=0.05s\n",
            "\n",
            "2022-07-28 20:03:23 (10.4 MB/s) - ‘web_data.csv’ saved [556285/556285]\n",
            "\n"
          ]
        }
      ],
      "source": [
        "%%bash\n",
        "\n",
        "pip install plotly==5.4 dash jupyter-dash\n",
        "\n",
        "mkdir assets/\n",
        "wget https://gist.githubusercontent.com/escape-velocity-labs/17c3ba12aef542afe5055a859e0fbd98/raw/af9e2431fb69c76618aeec9940cd5fd6deab8b1f/style.css -O assets/style.css\n",
        "wget https://gist.githubusercontent.com/escape-velocity-labs/81b8225d72306541018bf868f3a23436/raw/c14fdac538abc45f8e19c4828bb015aa931c41c5/web_data.csv -O web_data.csv"
      ]
    },
    {
      "cell_type": "code",
      "source": [
        ""
      ],
      "metadata": {
        "id": "-UXENIud-2xA"
      },
      "execution_count": 1,
      "outputs": []
    },
    {
      "cell_type": "code",
      "execution_count": 2,
      "metadata": {
        "id": "610611b5"
      },
      "outputs": [],
      "source": [
        "import pandas as pd\n",
        "import dash\n",
        "from dash import dcc\n",
        "from dash import html\n",
        "from dash.dependencies import Input, Output\n",
        "from jupyter_dash import JupyterDash\n",
        "import plotly.express as px\n",
        "import plotly.graph_objects as go\n",
        "import plotly.io as pio"
      ]
    },
    {
      "cell_type": "code",
      "execution_count": 3,
      "metadata": {
        "id": "bb96a69b"
      },
      "outputs": [],
      "source": [
        "app= JupyterDash(__name__)\n",
        "app.title= \"\"\"Análisis de Sitio Web\"\"\""
      ]
    },
    {
      "cell_type": "code",
      "execution_count": 4,
      "metadata": {
        "id": "49b03532"
      },
      "outputs": [],
      "source": [
        "dataset= pd.read_csv('web_data.csv')"
      ]
    },
    {
      "cell_type": "code",
      "source": [
        "dataset.head()"
      ],
      "metadata": {
        "colab": {
          "base_uri": "https://localhost:8080/",
          "height": 206
        },
        "id": "5DmMZY0s2V2W",
        "outputId": "2f2a02d6-626f-42f7-9377-edc2d24c8df3"
      },
      "execution_count": 5,
      "outputs": [
        {
          "output_type": "execute_result",
          "data": {
            "text/plain": [
              "         date      time weekday       os         country           page\n",
              "0  2021-10-01  00:00:00  Friday  Windows   United States         Detail\n",
              "1  2021-10-01  00:00:00  Friday      Mac  United Kingdom  Shopping Cart\n",
              "2  2021-10-01  00:00:00  Friday    Linux          Brazil         Detail\n",
              "3  2021-10-01  00:00:00  Friday  Windows          Canada         Detail\n",
              "4  2021-10-01  00:00:00  Friday    Linux         Germany        Landing"
            ],
            "text/html": [
              "\n",
              "  <div id=\"df-025d77ab-42bd-4066-9948-4b075627aa49\">\n",
              "    <div class=\"colab-df-container\">\n",
              "      <div>\n",
              "<style scoped>\n",
              "    .dataframe tbody tr th:only-of-type {\n",
              "        vertical-align: middle;\n",
              "    }\n",
              "\n",
              "    .dataframe tbody tr th {\n",
              "        vertical-align: top;\n",
              "    }\n",
              "\n",
              "    .dataframe thead th {\n",
              "        text-align: right;\n",
              "    }\n",
              "</style>\n",
              "<table border=\"1\" class=\"dataframe\">\n",
              "  <thead>\n",
              "    <tr style=\"text-align: right;\">\n",
              "      <th></th>\n",
              "      <th>date</th>\n",
              "      <th>time</th>\n",
              "      <th>weekday</th>\n",
              "      <th>os</th>\n",
              "      <th>country</th>\n",
              "      <th>page</th>\n",
              "    </tr>\n",
              "  </thead>\n",
              "  <tbody>\n",
              "    <tr>\n",
              "      <th>0</th>\n",
              "      <td>2021-10-01</td>\n",
              "      <td>00:00:00</td>\n",
              "      <td>Friday</td>\n",
              "      <td>Windows</td>\n",
              "      <td>United States</td>\n",
              "      <td>Detail</td>\n",
              "    </tr>\n",
              "    <tr>\n",
              "      <th>1</th>\n",
              "      <td>2021-10-01</td>\n",
              "      <td>00:00:00</td>\n",
              "      <td>Friday</td>\n",
              "      <td>Mac</td>\n",
              "      <td>United Kingdom</td>\n",
              "      <td>Shopping Cart</td>\n",
              "    </tr>\n",
              "    <tr>\n",
              "      <th>2</th>\n",
              "      <td>2021-10-01</td>\n",
              "      <td>00:00:00</td>\n",
              "      <td>Friday</td>\n",
              "      <td>Linux</td>\n",
              "      <td>Brazil</td>\n",
              "      <td>Detail</td>\n",
              "    </tr>\n",
              "    <tr>\n",
              "      <th>3</th>\n",
              "      <td>2021-10-01</td>\n",
              "      <td>00:00:00</td>\n",
              "      <td>Friday</td>\n",
              "      <td>Windows</td>\n",
              "      <td>Canada</td>\n",
              "      <td>Detail</td>\n",
              "    </tr>\n",
              "    <tr>\n",
              "      <th>4</th>\n",
              "      <td>2021-10-01</td>\n",
              "      <td>00:00:00</td>\n",
              "      <td>Friday</td>\n",
              "      <td>Linux</td>\n",
              "      <td>Germany</td>\n",
              "      <td>Landing</td>\n",
              "    </tr>\n",
              "  </tbody>\n",
              "</table>\n",
              "</div>\n",
              "      <button class=\"colab-df-convert\" onclick=\"convertToInteractive('df-025d77ab-42bd-4066-9948-4b075627aa49')\"\n",
              "              title=\"Convert this dataframe to an interactive table.\"\n",
              "              style=\"display:none;\">\n",
              "        \n",
              "  <svg xmlns=\"http://www.w3.org/2000/svg\" height=\"24px\"viewBox=\"0 0 24 24\"\n",
              "       width=\"24px\">\n",
              "    <path d=\"M0 0h24v24H0V0z\" fill=\"none\"/>\n",
              "    <path d=\"M18.56 5.44l.94 2.06.94-2.06 2.06-.94-2.06-.94-.94-2.06-.94 2.06-2.06.94zm-11 1L8.5 8.5l.94-2.06 2.06-.94-2.06-.94L8.5 2.5l-.94 2.06-2.06.94zm10 10l.94 2.06.94-2.06 2.06-.94-2.06-.94-.94-2.06-.94 2.06-2.06.94z\"/><path d=\"M17.41 7.96l-1.37-1.37c-.4-.4-.92-.59-1.43-.59-.52 0-1.04.2-1.43.59L10.3 9.45l-7.72 7.72c-.78.78-.78 2.05 0 2.83L4 21.41c.39.39.9.59 1.41.59.51 0 1.02-.2 1.41-.59l7.78-7.78 2.81-2.81c.8-.78.8-2.07 0-2.86zM5.41 20L4 18.59l7.72-7.72 1.47 1.35L5.41 20z\"/>\n",
              "  </svg>\n",
              "      </button>\n",
              "      \n",
              "  <style>\n",
              "    .colab-df-container {\n",
              "      display:flex;\n",
              "      flex-wrap:wrap;\n",
              "      gap: 12px;\n",
              "    }\n",
              "\n",
              "    .colab-df-convert {\n",
              "      background-color: #E8F0FE;\n",
              "      border: none;\n",
              "      border-radius: 50%;\n",
              "      cursor: pointer;\n",
              "      display: none;\n",
              "      fill: #1967D2;\n",
              "      height: 32px;\n",
              "      padding: 0 0 0 0;\n",
              "      width: 32px;\n",
              "    }\n",
              "\n",
              "    .colab-df-convert:hover {\n",
              "      background-color: #E2EBFA;\n",
              "      box-shadow: 0px 1px 2px rgba(60, 64, 67, 0.3), 0px 1px 3px 1px rgba(60, 64, 67, 0.15);\n",
              "      fill: #174EA6;\n",
              "    }\n",
              "\n",
              "    [theme=dark] .colab-df-convert {\n",
              "      background-color: #3B4455;\n",
              "      fill: #D2E3FC;\n",
              "    }\n",
              "\n",
              "    [theme=dark] .colab-df-convert:hover {\n",
              "      background-color: #434B5C;\n",
              "      box-shadow: 0px 1px 3px 1px rgba(0, 0, 0, 0.15);\n",
              "      filter: drop-shadow(0px 1px 2px rgba(0, 0, 0, 0.3));\n",
              "      fill: #FFFFFF;\n",
              "    }\n",
              "  </style>\n",
              "\n",
              "      <script>\n",
              "        const buttonEl =\n",
              "          document.querySelector('#df-025d77ab-42bd-4066-9948-4b075627aa49 button.colab-df-convert');\n",
              "        buttonEl.style.display =\n",
              "          google.colab.kernel.accessAllowed ? 'block' : 'none';\n",
              "\n",
              "        async function convertToInteractive(key) {\n",
              "          const element = document.querySelector('#df-025d77ab-42bd-4066-9948-4b075627aa49');\n",
              "          const dataTable =\n",
              "            await google.colab.kernel.invokeFunction('convertToInteractive',\n",
              "                                                     [key], {});\n",
              "          if (!dataTable) return;\n",
              "\n",
              "          const docLinkHtml = 'Like what you see? Visit the ' +\n",
              "            '<a target=\"_blank\" href=https://colab.research.google.com/notebooks/data_table.ipynb>data table notebook</a>'\n",
              "            + ' to learn more about interactive tables.';\n",
              "          element.innerHTML = '';\n",
              "          dataTable['output_type'] = 'display_data';\n",
              "          await google.colab.output.renderOutput(dataTable, element);\n",
              "          const docLink = document.createElement('div');\n",
              "          docLink.innerHTML = docLinkHtml;\n",
              "          element.appendChild(docLink);\n",
              "        }\n",
              "      </script>\n",
              "    </div>\n",
              "  </div>\n",
              "  "
            ]
          },
          "metadata": {},
          "execution_count": 5
        }
      ]
    },
    {
      "cell_type": "code",
      "source": [
        "colors= ['#f2fffb', '#98ffe0', '#6df0c8', '#59dab3', '#31c194', '#25a27b', '#188463', '#11684d']\n"
      ],
      "metadata": {
        "id": "aB5gleMf2itm"
      },
      "execution_count": 6,
      "outputs": []
    },
    {
      "cell_type": "code",
      "source": [
        ""
      ],
      "metadata": {
        "id": "FG4LDIDuOWq3"
      },
      "execution_count": 6,
      "outputs": []
    },
    {
      "cell_type": "code",
      "source": [
        "custom_theme= pio.templates[\"plotly_dark\"]\n",
        "custom_theme.layout.update({\n",
        "    'paper_bgcolor': '#1f2630',\n",
        "    'plot_bgcolor': '#1f2630',\n",
        "    'colorway': colors,\n",
        "    'colorscale_sequential': colors,\n",
        "    'font': {\n",
        "        'color':'#2cfec1'\n",
        "    },\n",
        "    'margin':{\n",
        "        't':75,\n",
        "        'r':50,\n",
        "        'b': 100,\n",
        "        'l':75\n",
        "    }\n",
        "})\n",
        "pio.templates.default = custom_theme"
      ],
      "metadata": {
        "id": "Y1AVGoVE3LZf"
      },
      "execution_count": 7,
      "outputs": []
    },
    {
      "cell_type": "markdown",
      "metadata": {
        "id": "7aadb52d"
      },
      "source": [
        "#### Dashboard structure"
      ]
    },
    {
      "cell_type": "markdown",
      "metadata": {
        "id": "d2410382"
      },
      "source": [
        "#### Dashboard header"
      ]
    },
    {
      "cell_type": "code",
      "execution_count": 8,
      "metadata": {
        "id": "49adceb1"
      },
      "outputs": [],
      "source": [
        "header = html.Div(\n",
        "    id= 'header',\n",
        "    children= [\n",
        "               html.H4('Análisis de trafico en un sitio web'),\n",
        "               html.P(\n",
        "                   id='description',\n",
        "                   children= \"\"\"Los datos de este sitio web es parte de el archivo web_data.csv del usuario escape-velocity-labs (https://github.com/escape-velocity-labs)\\n.\n",
        "                   Analarizaremos una serie de tiempo para las visitas al sitio web\\n.\n",
        "                   Crearemos un tunel de ventas para determinar desde que sistemas operativos y paises nos visitan\\n.\n",
        "                   Crearemos un gráfico el cual nos muestre la distribución de visitas\\n.\n",
        "                   Los periodos clave de actividad dentro de nuestro sitio web\\n\n",
        "                   y por último el numero de visitas por pais\"\"\"\n",
        "               )\n",
        "    ]\n",
        ")"
      ]
    },
    {
      "cell_type": "markdown",
      "metadata": {
        "id": "5c543cbc"
      },
      "source": [
        "#### Evolution of website visits"
      ]
    },
    {
      "cell_type": "code",
      "execution_count": 9,
      "metadata": {
        "id": "14951f36",
        "colab": {
          "base_uri": "https://localhost:8080/"
        },
        "outputId": "a2cff2a8-1763-4bee-eb9d-51be503b6beb"
      },
      "outputs": [
        {
          "output_type": "execute_result",
          "data": {
            "text/plain": [
              "date\n",
              "2021-10-01    307\n",
              "2021-10-02    308\n",
              "2021-10-03    342\n",
              "2021-10-04    325\n",
              "2021-10-05    331\n",
              "dtype: int64"
            ]
          },
          "metadata": {},
          "execution_count": 9
        }
      ],
      "source": [
        "visits_per_day= dataset.value_counts('date', sort=False)\n",
        "visits_per_day.head()"
      ]
    },
    {
      "cell_type": "code",
      "execution_count": 10,
      "metadata": {
        "id": "96d5778c"
      },
      "outputs": [],
      "source": [
        "trend_title = html.P(className='chart-header', children='Visitas al sitio web por día')"
      ]
    },
    {
      "cell_type": "code",
      "execution_count": 11,
      "metadata": {
        "id": "25ffda5e"
      },
      "outputs": [],
      "source": [
        "labels = {'date':'Date', 'value':'Value'}\n",
        "trend_figure = px.line(visits_per_day, labels=labels, markers=True)\n",
        "trend_figure.layout.update(showlegend=False)\n",
        "trend_graph= dcc.Graph(figure=trend_figure, className='graph')"
      ]
    },
    {
      "cell_type": "markdown",
      "metadata": {
        "id": "d4275c61"
      },
      "source": [
        "#### First row"
      ]
    },
    {
      "cell_type": "code",
      "execution_count": 12,
      "metadata": {
        "id": "8b4171fe"
      },
      "outputs": [],
      "source": [
        "first_row = html.Div(\n",
        "    className= 'graph-row',\n",
        "    children=[\n",
        "              html.Div(\n",
        "                  className='graph-container',\n",
        "                  children=[\n",
        "                            trend_title,\n",
        "                            trend_graph\n",
        "                  ]\n",
        "              )\n",
        "    ]\n",
        ")"
      ]
    },
    {
      "cell_type": "markdown",
      "metadata": {
        "id": "d96b28b0"
      },
      "source": [
        "#### Sales funnel"
      ]
    },
    {
      "cell_type": "code",
      "execution_count": 13,
      "metadata": {
        "id": "622f0ee5"
      },
      "outputs": [],
      "source": [
        "funnel_title = html.P(className='chart-header', children= 'Tunel de ventas')"
      ]
    },
    {
      "cell_type": "code",
      "source": [
        "@app.callback(Output('funnel-graph', 'figure'), [Input('os-dropdown', 'value'), Input('country-dropdown', 'value')])\n",
        "def update_funnel_graph (os,country):\n",
        "  subset= dataset\n",
        "  if os:\n",
        "    subset = subset.query(f\"os== '{os}'\") #La f hará que los valores dentro de los corchetes tomen el valor de lo que llamemos\n",
        "  #Las comillas nos ayudan a que pandas lo interprete como un string\n",
        "  if country:\n",
        "    subset = subset.query(f\"country == '{country}'\")\n",
        "  visits_per_page= subset.value_counts('page')\n",
        "  fig = px.funnel(visits_per_page, color = visits_per_page)\n",
        "  return fig"
      ],
      "metadata": {
        "id": "_WiLTX1VZtOf"
      },
      "execution_count": 14,
      "outputs": []
    },
    {
      "cell_type": "code",
      "execution_count": 15,
      "metadata": {
        "id": "c3b9e641"
      },
      "outputs": [],
      "source": [
        "os_dropdown= dcc.Dropdown(\n",
        "    id='os-dropdown',\n",
        "    placeholder='Filtro por sistema operativo',\n",
        "    options=[\n",
        "             {'label':'Windows', 'value':'Windows'},\n",
        "             {'label':'Android', 'value':'Android'},\n",
        "             {'label':'Mac', 'value':'Mac'},\n",
        "             {'label':'iOS', 'value':'iOS'},\n",
        "             {'label':'Linux', 'value':'Linux'}\n",
        "    ]\n",
        ")\n",
        "\n",
        "country_dropdown = dcc.Dropdown(\n",
        "    id='country-dropdown',\n",
        "    placeholder='Filtro por país',\n",
        "    options=[\n",
        "             {'label':'Estados unidos', 'value': 'United States'},\n",
        "             {'label':'Canada', 'value': 'Canada'},\n",
        "             {'label':'Reino Unido', 'value': 'United Kingdom'},\n",
        "             {'label':'Australia', 'value': 'Australia'},\n",
        "             {'label':'Nueva Zelanda', 'value': 'New Zealand'},\n",
        "             {'label':'Brasil', 'value': 'Brazil'},\n",
        "             {'label':'Rusia', 'value': 'Russia'},\n",
        "             {'label':'Alemania', 'value': 'Germany'},\n",
        "             {'label':'México', 'value': 'Mexico'},\n",
        "    ]\n",
        ")"
      ]
    },
    {
      "cell_type": "code",
      "execution_count": 16,
      "metadata": {
        "id": "79257e2c"
      },
      "outputs": [],
      "source": [
        "funnel_controls= html.Div(\n",
        "    className='controler-row',\n",
        "    children=[\n",
        "              os_dropdown,\n",
        "              country_dropdown\n",
        "    ]\n",
        ")"
      ]
    },
    {
      "cell_type": "code",
      "execution_count": 17,
      "metadata": {
        "id": "559d70cb"
      },
      "outputs": [],
      "source": [
        "funnel_graph= dcc.Graph(id='funnel-graph', className='graph')"
      ]
    },
    {
      "cell_type": "markdown",
      "metadata": {
        "id": "311968a8"
      },
      "source": [
        "#### Distribution of visits by attribute"
      ]
    },
    {
      "cell_type": "code",
      "execution_count": 18,
      "metadata": {
        "id": "8f5c9ff5"
      },
      "outputs": [],
      "source": [
        "pie_title = html.P(className='chart-header', children='Distribución de visitas')"
      ]
    },
    {
      "cell_type": "code",
      "execution_count": 19,
      "metadata": {
        "id": "17c56ae5"
      },
      "outputs": [],
      "source": [
        "@app.callback(Output('pie-graph','figure'), [Input('radio-buttons', 'value')])\n",
        "def update_pie_chart(value):\n",
        "  fig= px.pie(dataset, names=value)\n",
        "  return fig"
      ]
    },
    {
      "cell_type": "code",
      "execution_count": 20,
      "metadata": {
        "id": "28ac3e7a"
      },
      "outputs": [],
      "source": [
        "radio_buttons= dcc.RadioItems(\n",
        "    id='radio-buttons',\n",
        "    options=[\n",
        "             {'label':'Sistema operativo', 'value':'os'},\n",
        "             {'label':'País', 'value':'country'}\n",
        "    ],\n",
        "    value='os',\n",
        "    labelStyle={'display': 'inline-block'} #Propiedad del estilo que te dice donde colocar los botones\n",
        ")"
      ]
    },
    {
      "cell_type": "code",
      "source": [
        "pie_controls = html.Div(\n",
        "    className='controler-row',\n",
        "    children=[\n",
        "              radio_buttons\n",
        "    ]\n",
        ")"
      ],
      "metadata": {
        "id": "blQYCBkbzbXF"
      },
      "execution_count": 21,
      "outputs": []
    },
    {
      "cell_type": "code",
      "execution_count": 22,
      "metadata": {
        "id": "ef340185"
      },
      "outputs": [],
      "source": [
        "pie_graph= dcc.Graph(id='pie-graph')"
      ]
    },
    {
      "cell_type": "markdown",
      "metadata": {
        "id": "7cba5d55"
      },
      "source": [
        "#### Second row"
      ]
    },
    {
      "cell_type": "code",
      "execution_count": 23,
      "metadata": {
        "id": "5b7e10b3"
      },
      "outputs": [],
      "source": [
        "second_row= html.Div(\n",
        "    className= 'graph-row',\n",
        "    children=[\n",
        "              html.Div(\n",
        "                  className='graph-container',\n",
        "                  children=[\n",
        "                            funnel_title,\n",
        "                            funnel_controls,\n",
        "                            funnel_graph\n",
        "                  ]\n",
        "              ),\n",
        "              html.Div(\n",
        "                  className='graph-container',\n",
        "                  children=[\n",
        "                            pie_title,\n",
        "                            pie_controls,\n",
        "                            pie_graph\n",
        "                  ]\n",
        "              )\n",
        "    ]\n",
        ")"
      ]
    },
    {
      "cell_type": "markdown",
      "metadata": {
        "id": "97ea9f45"
      },
      "source": [
        "#### Visits by date and time"
      ]
    },
    {
      "cell_type": "code",
      "execution_count": 24,
      "metadata": {
        "id": "72352fff",
        "colab": {
          "base_uri": "https://localhost:8080/",
          "height": 206
        },
        "outputId": "b35b36d5-a349-4c30-af04-1e7d6bbabfaf"
      },
      "outputs": [
        {
          "output_type": "execute_result",
          "data": {
            "text/plain": [
              "         date      time weekday       os         country           page\n",
              "0  2021-10-01  00:00:00  Friday  Windows   United States         Detail\n",
              "1  2021-10-01  00:00:00  Friday      Mac  United Kingdom  Shopping Cart\n",
              "2  2021-10-01  00:00:00  Friday    Linux          Brazil         Detail\n",
              "3  2021-10-01  00:00:00  Friday  Windows          Canada         Detail\n",
              "4  2021-10-01  00:00:00  Friday    Linux         Germany        Landing"
            ],
            "text/html": [
              "\n",
              "  <div id=\"df-41b9bd90-afb9-4d3b-b9dd-846fd0651953\">\n",
              "    <div class=\"colab-df-container\">\n",
              "      <div>\n",
              "<style scoped>\n",
              "    .dataframe tbody tr th:only-of-type {\n",
              "        vertical-align: middle;\n",
              "    }\n",
              "\n",
              "    .dataframe tbody tr th {\n",
              "        vertical-align: top;\n",
              "    }\n",
              "\n",
              "    .dataframe thead th {\n",
              "        text-align: right;\n",
              "    }\n",
              "</style>\n",
              "<table border=\"1\" class=\"dataframe\">\n",
              "  <thead>\n",
              "    <tr style=\"text-align: right;\">\n",
              "      <th></th>\n",
              "      <th>date</th>\n",
              "      <th>time</th>\n",
              "      <th>weekday</th>\n",
              "      <th>os</th>\n",
              "      <th>country</th>\n",
              "      <th>page</th>\n",
              "    </tr>\n",
              "  </thead>\n",
              "  <tbody>\n",
              "    <tr>\n",
              "      <th>0</th>\n",
              "      <td>2021-10-01</td>\n",
              "      <td>00:00:00</td>\n",
              "      <td>Friday</td>\n",
              "      <td>Windows</td>\n",
              "      <td>United States</td>\n",
              "      <td>Detail</td>\n",
              "    </tr>\n",
              "    <tr>\n",
              "      <th>1</th>\n",
              "      <td>2021-10-01</td>\n",
              "      <td>00:00:00</td>\n",
              "      <td>Friday</td>\n",
              "      <td>Mac</td>\n",
              "      <td>United Kingdom</td>\n",
              "      <td>Shopping Cart</td>\n",
              "    </tr>\n",
              "    <tr>\n",
              "      <th>2</th>\n",
              "      <td>2021-10-01</td>\n",
              "      <td>00:00:00</td>\n",
              "      <td>Friday</td>\n",
              "      <td>Linux</td>\n",
              "      <td>Brazil</td>\n",
              "      <td>Detail</td>\n",
              "    </tr>\n",
              "    <tr>\n",
              "      <th>3</th>\n",
              "      <td>2021-10-01</td>\n",
              "      <td>00:00:00</td>\n",
              "      <td>Friday</td>\n",
              "      <td>Windows</td>\n",
              "      <td>Canada</td>\n",
              "      <td>Detail</td>\n",
              "    </tr>\n",
              "    <tr>\n",
              "      <th>4</th>\n",
              "      <td>2021-10-01</td>\n",
              "      <td>00:00:00</td>\n",
              "      <td>Friday</td>\n",
              "      <td>Linux</td>\n",
              "      <td>Germany</td>\n",
              "      <td>Landing</td>\n",
              "    </tr>\n",
              "  </tbody>\n",
              "</table>\n",
              "</div>\n",
              "      <button class=\"colab-df-convert\" onclick=\"convertToInteractive('df-41b9bd90-afb9-4d3b-b9dd-846fd0651953')\"\n",
              "              title=\"Convert this dataframe to an interactive table.\"\n",
              "              style=\"display:none;\">\n",
              "        \n",
              "  <svg xmlns=\"http://www.w3.org/2000/svg\" height=\"24px\"viewBox=\"0 0 24 24\"\n",
              "       width=\"24px\">\n",
              "    <path d=\"M0 0h24v24H0V0z\" fill=\"none\"/>\n",
              "    <path d=\"M18.56 5.44l.94 2.06.94-2.06 2.06-.94-2.06-.94-.94-2.06-.94 2.06-2.06.94zm-11 1L8.5 8.5l.94-2.06 2.06-.94-2.06-.94L8.5 2.5l-.94 2.06-2.06.94zm10 10l.94 2.06.94-2.06 2.06-.94-2.06-.94-.94-2.06-.94 2.06-2.06.94z\"/><path d=\"M17.41 7.96l-1.37-1.37c-.4-.4-.92-.59-1.43-.59-.52 0-1.04.2-1.43.59L10.3 9.45l-7.72 7.72c-.78.78-.78 2.05 0 2.83L4 21.41c.39.39.9.59 1.41.59.51 0 1.02-.2 1.41-.59l7.78-7.78 2.81-2.81c.8-.78.8-2.07 0-2.86zM5.41 20L4 18.59l7.72-7.72 1.47 1.35L5.41 20z\"/>\n",
              "  </svg>\n",
              "      </button>\n",
              "      \n",
              "  <style>\n",
              "    .colab-df-container {\n",
              "      display:flex;\n",
              "      flex-wrap:wrap;\n",
              "      gap: 12px;\n",
              "    }\n",
              "\n",
              "    .colab-df-convert {\n",
              "      background-color: #E8F0FE;\n",
              "      border: none;\n",
              "      border-radius: 50%;\n",
              "      cursor: pointer;\n",
              "      display: none;\n",
              "      fill: #1967D2;\n",
              "      height: 32px;\n",
              "      padding: 0 0 0 0;\n",
              "      width: 32px;\n",
              "    }\n",
              "\n",
              "    .colab-df-convert:hover {\n",
              "      background-color: #E2EBFA;\n",
              "      box-shadow: 0px 1px 2px rgba(60, 64, 67, 0.3), 0px 1px 3px 1px rgba(60, 64, 67, 0.15);\n",
              "      fill: #174EA6;\n",
              "    }\n",
              "\n",
              "    [theme=dark] .colab-df-convert {\n",
              "      background-color: #3B4455;\n",
              "      fill: #D2E3FC;\n",
              "    }\n",
              "\n",
              "    [theme=dark] .colab-df-convert:hover {\n",
              "      background-color: #434B5C;\n",
              "      box-shadow: 0px 1px 3px 1px rgba(0, 0, 0, 0.15);\n",
              "      filter: drop-shadow(0px 1px 2px rgba(0, 0, 0, 0.3));\n",
              "      fill: #FFFFFF;\n",
              "    }\n",
              "  </style>\n",
              "\n",
              "      <script>\n",
              "        const buttonEl =\n",
              "          document.querySelector('#df-41b9bd90-afb9-4d3b-b9dd-846fd0651953 button.colab-df-convert');\n",
              "        buttonEl.style.display =\n",
              "          google.colab.kernel.accessAllowed ? 'block' : 'none';\n",
              "\n",
              "        async function convertToInteractive(key) {\n",
              "          const element = document.querySelector('#df-41b9bd90-afb9-4d3b-b9dd-846fd0651953');\n",
              "          const dataTable =\n",
              "            await google.colab.kernel.invokeFunction('convertToInteractive',\n",
              "                                                     [key], {});\n",
              "          if (!dataTable) return;\n",
              "\n",
              "          const docLinkHtml = 'Like what you see? Visit the ' +\n",
              "            '<a target=\"_blank\" href=https://colab.research.google.com/notebooks/data_table.ipynb>data table notebook</a>'\n",
              "            + ' to learn more about interactive tables.';\n",
              "          element.innerHTML = '';\n",
              "          dataTable['output_type'] = 'display_data';\n",
              "          await google.colab.output.renderOutput(dataTable, element);\n",
              "          const docLink = document.createElement('div');\n",
              "          docLink.innerHTML = docLinkHtml;\n",
              "          element.appendChild(docLink);\n",
              "        }\n",
              "      </script>\n",
              "    </div>\n",
              "  </div>\n",
              "  "
            ]
          },
          "metadata": {},
          "execution_count": 24
        }
      ],
      "source": [
        "dataset.head()"
      ]
    },
    {
      "cell_type": "code",
      "execution_count": 25,
      "metadata": {
        "id": "e0eac084",
        "colab": {
          "base_uri": "https://localhost:8080/",
          "height": 206
        },
        "outputId": "c8e4541c-cea8-4279-9bf2-0b868de15a0c"
      },
      "outputs": [
        {
          "output_type": "execute_result",
          "data": {
            "text/plain": [
              "  weekday      time  counts\n",
              "0  Friday  00:00:00      44\n",
              "1  Friday  01:00:00      48\n",
              "2  Friday  02:00:00      53\n",
              "3  Friday  03:00:00      45\n",
              "4  Friday  04:00:00      55"
            ],
            "text/html": [
              "\n",
              "  <div id=\"df-f3cab024-0e40-452c-9562-44314cdf28e6\">\n",
              "    <div class=\"colab-df-container\">\n",
              "      <div>\n",
              "<style scoped>\n",
              "    .dataframe tbody tr th:only-of-type {\n",
              "        vertical-align: middle;\n",
              "    }\n",
              "\n",
              "    .dataframe tbody tr th {\n",
              "        vertical-align: top;\n",
              "    }\n",
              "\n",
              "    .dataframe thead th {\n",
              "        text-align: right;\n",
              "    }\n",
              "</style>\n",
              "<table border=\"1\" class=\"dataframe\">\n",
              "  <thead>\n",
              "    <tr style=\"text-align: right;\">\n",
              "      <th></th>\n",
              "      <th>weekday</th>\n",
              "      <th>time</th>\n",
              "      <th>counts</th>\n",
              "    </tr>\n",
              "  </thead>\n",
              "  <tbody>\n",
              "    <tr>\n",
              "      <th>0</th>\n",
              "      <td>Friday</td>\n",
              "      <td>00:00:00</td>\n",
              "      <td>44</td>\n",
              "    </tr>\n",
              "    <tr>\n",
              "      <th>1</th>\n",
              "      <td>Friday</td>\n",
              "      <td>01:00:00</td>\n",
              "      <td>48</td>\n",
              "    </tr>\n",
              "    <tr>\n",
              "      <th>2</th>\n",
              "      <td>Friday</td>\n",
              "      <td>02:00:00</td>\n",
              "      <td>53</td>\n",
              "    </tr>\n",
              "    <tr>\n",
              "      <th>3</th>\n",
              "      <td>Friday</td>\n",
              "      <td>03:00:00</td>\n",
              "      <td>45</td>\n",
              "    </tr>\n",
              "    <tr>\n",
              "      <th>4</th>\n",
              "      <td>Friday</td>\n",
              "      <td>04:00:00</td>\n",
              "      <td>55</td>\n",
              "    </tr>\n",
              "  </tbody>\n",
              "</table>\n",
              "</div>\n",
              "      <button class=\"colab-df-convert\" onclick=\"convertToInteractive('df-f3cab024-0e40-452c-9562-44314cdf28e6')\"\n",
              "              title=\"Convert this dataframe to an interactive table.\"\n",
              "              style=\"display:none;\">\n",
              "        \n",
              "  <svg xmlns=\"http://www.w3.org/2000/svg\" height=\"24px\"viewBox=\"0 0 24 24\"\n",
              "       width=\"24px\">\n",
              "    <path d=\"M0 0h24v24H0V0z\" fill=\"none\"/>\n",
              "    <path d=\"M18.56 5.44l.94 2.06.94-2.06 2.06-.94-2.06-.94-.94-2.06-.94 2.06-2.06.94zm-11 1L8.5 8.5l.94-2.06 2.06-.94-2.06-.94L8.5 2.5l-.94 2.06-2.06.94zm10 10l.94 2.06.94-2.06 2.06-.94-2.06-.94-.94-2.06-.94 2.06-2.06.94z\"/><path d=\"M17.41 7.96l-1.37-1.37c-.4-.4-.92-.59-1.43-.59-.52 0-1.04.2-1.43.59L10.3 9.45l-7.72 7.72c-.78.78-.78 2.05 0 2.83L4 21.41c.39.39.9.59 1.41.59.51 0 1.02-.2 1.41-.59l7.78-7.78 2.81-2.81c.8-.78.8-2.07 0-2.86zM5.41 20L4 18.59l7.72-7.72 1.47 1.35L5.41 20z\"/>\n",
              "  </svg>\n",
              "      </button>\n",
              "      \n",
              "  <style>\n",
              "    .colab-df-container {\n",
              "      display:flex;\n",
              "      flex-wrap:wrap;\n",
              "      gap: 12px;\n",
              "    }\n",
              "\n",
              "    .colab-df-convert {\n",
              "      background-color: #E8F0FE;\n",
              "      border: none;\n",
              "      border-radius: 50%;\n",
              "      cursor: pointer;\n",
              "      display: none;\n",
              "      fill: #1967D2;\n",
              "      height: 32px;\n",
              "      padding: 0 0 0 0;\n",
              "      width: 32px;\n",
              "    }\n",
              "\n",
              "    .colab-df-convert:hover {\n",
              "      background-color: #E2EBFA;\n",
              "      box-shadow: 0px 1px 2px rgba(60, 64, 67, 0.3), 0px 1px 3px 1px rgba(60, 64, 67, 0.15);\n",
              "      fill: #174EA6;\n",
              "    }\n",
              "\n",
              "    [theme=dark] .colab-df-convert {\n",
              "      background-color: #3B4455;\n",
              "      fill: #D2E3FC;\n",
              "    }\n",
              "\n",
              "    [theme=dark] .colab-df-convert:hover {\n",
              "      background-color: #434B5C;\n",
              "      box-shadow: 0px 1px 3px 1px rgba(0, 0, 0, 0.15);\n",
              "      filter: drop-shadow(0px 1px 2px rgba(0, 0, 0, 0.3));\n",
              "      fill: #FFFFFF;\n",
              "    }\n",
              "  </style>\n",
              "\n",
              "      <script>\n",
              "        const buttonEl =\n",
              "          document.querySelector('#df-f3cab024-0e40-452c-9562-44314cdf28e6 button.colab-df-convert');\n",
              "        buttonEl.style.display =\n",
              "          google.colab.kernel.accessAllowed ? 'block' : 'none';\n",
              "\n",
              "        async function convertToInteractive(key) {\n",
              "          const element = document.querySelector('#df-f3cab024-0e40-452c-9562-44314cdf28e6');\n",
              "          const dataTable =\n",
              "            await google.colab.kernel.invokeFunction('convertToInteractive',\n",
              "                                                     [key], {});\n",
              "          if (!dataTable) return;\n",
              "\n",
              "          const docLinkHtml = 'Like what you see? Visit the ' +\n",
              "            '<a target=\"_blank\" href=https://colab.research.google.com/notebooks/data_table.ipynb>data table notebook</a>'\n",
              "            + ' to learn more about interactive tables.';\n",
              "          element.innerHTML = '';\n",
              "          dataTable['output_type'] = 'display_data';\n",
              "          await google.colab.output.renderOutput(dataTable, element);\n",
              "          const docLink = document.createElement('div');\n",
              "          docLink.innerHTML = docLinkHtml;\n",
              "          element.appendChild(docLink);\n",
              "        }\n",
              "      </script>\n",
              "    </div>\n",
              "  </div>\n",
              "  "
            ]
          },
          "metadata": {},
          "execution_count": 25
        }
      ],
      "source": [
        "visits_day_time = dataset.groupby(['weekday', 'time']).size().reset_index(name='counts')\n",
        "visits_day_time.head()"
      ]
    },
    {
      "cell_type": "code",
      "execution_count": 26,
      "metadata": {
        "id": "0432509a",
        "colab": {
          "base_uri": "https://localhost:8080/",
          "height": 237
        },
        "outputId": "e4dd325f-4a1c-4056-9745-91a8f44e8b5b"
      },
      "outputs": [
        {
          "output_type": "execute_result",
          "data": {
            "text/plain": [
              "weekday   Friday  Monday  Saturday  Sunday  Thursday  Tuesday  Wednesday\n",
              "time                                                                    \n",
              "00:00:00      44      38        42      39        47       41         43\n",
              "01:00:00      48      46        53      48        46       53         45\n",
              "02:00:00      53      44        58      46        51       44         37\n",
              "03:00:00      45      35        50      54        35       39         66\n",
              "04:00:00      55      46        43      51        41       45         46"
            ],
            "text/html": [
              "\n",
              "  <div id=\"df-a558a94c-c793-4dfc-b431-6f568b46c99a\">\n",
              "    <div class=\"colab-df-container\">\n",
              "      <div>\n",
              "<style scoped>\n",
              "    .dataframe tbody tr th:only-of-type {\n",
              "        vertical-align: middle;\n",
              "    }\n",
              "\n",
              "    .dataframe tbody tr th {\n",
              "        vertical-align: top;\n",
              "    }\n",
              "\n",
              "    .dataframe thead th {\n",
              "        text-align: right;\n",
              "    }\n",
              "</style>\n",
              "<table border=\"1\" class=\"dataframe\">\n",
              "  <thead>\n",
              "    <tr style=\"text-align: right;\">\n",
              "      <th>weekday</th>\n",
              "      <th>Friday</th>\n",
              "      <th>Monday</th>\n",
              "      <th>Saturday</th>\n",
              "      <th>Sunday</th>\n",
              "      <th>Thursday</th>\n",
              "      <th>Tuesday</th>\n",
              "      <th>Wednesday</th>\n",
              "    </tr>\n",
              "    <tr>\n",
              "      <th>time</th>\n",
              "      <th></th>\n",
              "      <th></th>\n",
              "      <th></th>\n",
              "      <th></th>\n",
              "      <th></th>\n",
              "      <th></th>\n",
              "      <th></th>\n",
              "    </tr>\n",
              "  </thead>\n",
              "  <tbody>\n",
              "    <tr>\n",
              "      <th>00:00:00</th>\n",
              "      <td>44</td>\n",
              "      <td>38</td>\n",
              "      <td>42</td>\n",
              "      <td>39</td>\n",
              "      <td>47</td>\n",
              "      <td>41</td>\n",
              "      <td>43</td>\n",
              "    </tr>\n",
              "    <tr>\n",
              "      <th>01:00:00</th>\n",
              "      <td>48</td>\n",
              "      <td>46</td>\n",
              "      <td>53</td>\n",
              "      <td>48</td>\n",
              "      <td>46</td>\n",
              "      <td>53</td>\n",
              "      <td>45</td>\n",
              "    </tr>\n",
              "    <tr>\n",
              "      <th>02:00:00</th>\n",
              "      <td>53</td>\n",
              "      <td>44</td>\n",
              "      <td>58</td>\n",
              "      <td>46</td>\n",
              "      <td>51</td>\n",
              "      <td>44</td>\n",
              "      <td>37</td>\n",
              "    </tr>\n",
              "    <tr>\n",
              "      <th>03:00:00</th>\n",
              "      <td>45</td>\n",
              "      <td>35</td>\n",
              "      <td>50</td>\n",
              "      <td>54</td>\n",
              "      <td>35</td>\n",
              "      <td>39</td>\n",
              "      <td>66</td>\n",
              "    </tr>\n",
              "    <tr>\n",
              "      <th>04:00:00</th>\n",
              "      <td>55</td>\n",
              "      <td>46</td>\n",
              "      <td>43</td>\n",
              "      <td>51</td>\n",
              "      <td>41</td>\n",
              "      <td>45</td>\n",
              "      <td>46</td>\n",
              "    </tr>\n",
              "  </tbody>\n",
              "</table>\n",
              "</div>\n",
              "      <button class=\"colab-df-convert\" onclick=\"convertToInteractive('df-a558a94c-c793-4dfc-b431-6f568b46c99a')\"\n",
              "              title=\"Convert this dataframe to an interactive table.\"\n",
              "              style=\"display:none;\">\n",
              "        \n",
              "  <svg xmlns=\"http://www.w3.org/2000/svg\" height=\"24px\"viewBox=\"0 0 24 24\"\n",
              "       width=\"24px\">\n",
              "    <path d=\"M0 0h24v24H0V0z\" fill=\"none\"/>\n",
              "    <path d=\"M18.56 5.44l.94 2.06.94-2.06 2.06-.94-2.06-.94-.94-2.06-.94 2.06-2.06.94zm-11 1L8.5 8.5l.94-2.06 2.06-.94-2.06-.94L8.5 2.5l-.94 2.06-2.06.94zm10 10l.94 2.06.94-2.06 2.06-.94-2.06-.94-.94-2.06-.94 2.06-2.06.94z\"/><path d=\"M17.41 7.96l-1.37-1.37c-.4-.4-.92-.59-1.43-.59-.52 0-1.04.2-1.43.59L10.3 9.45l-7.72 7.72c-.78.78-.78 2.05 0 2.83L4 21.41c.39.39.9.59 1.41.59.51 0 1.02-.2 1.41-.59l7.78-7.78 2.81-2.81c.8-.78.8-2.07 0-2.86zM5.41 20L4 18.59l7.72-7.72 1.47 1.35L5.41 20z\"/>\n",
              "  </svg>\n",
              "      </button>\n",
              "      \n",
              "  <style>\n",
              "    .colab-df-container {\n",
              "      display:flex;\n",
              "      flex-wrap:wrap;\n",
              "      gap: 12px;\n",
              "    }\n",
              "\n",
              "    .colab-df-convert {\n",
              "      background-color: #E8F0FE;\n",
              "      border: none;\n",
              "      border-radius: 50%;\n",
              "      cursor: pointer;\n",
              "      display: none;\n",
              "      fill: #1967D2;\n",
              "      height: 32px;\n",
              "      padding: 0 0 0 0;\n",
              "      width: 32px;\n",
              "    }\n",
              "\n",
              "    .colab-df-convert:hover {\n",
              "      background-color: #E2EBFA;\n",
              "      box-shadow: 0px 1px 2px rgba(60, 64, 67, 0.3), 0px 1px 3px 1px rgba(60, 64, 67, 0.15);\n",
              "      fill: #174EA6;\n",
              "    }\n",
              "\n",
              "    [theme=dark] .colab-df-convert {\n",
              "      background-color: #3B4455;\n",
              "      fill: #D2E3FC;\n",
              "    }\n",
              "\n",
              "    [theme=dark] .colab-df-convert:hover {\n",
              "      background-color: #434B5C;\n",
              "      box-shadow: 0px 1px 3px 1px rgba(0, 0, 0, 0.15);\n",
              "      filter: drop-shadow(0px 1px 2px rgba(0, 0, 0, 0.3));\n",
              "      fill: #FFFFFF;\n",
              "    }\n",
              "  </style>\n",
              "\n",
              "      <script>\n",
              "        const buttonEl =\n",
              "          document.querySelector('#df-a558a94c-c793-4dfc-b431-6f568b46c99a button.colab-df-convert');\n",
              "        buttonEl.style.display =\n",
              "          google.colab.kernel.accessAllowed ? 'block' : 'none';\n",
              "\n",
              "        async function convertToInteractive(key) {\n",
              "          const element = document.querySelector('#df-a558a94c-c793-4dfc-b431-6f568b46c99a');\n",
              "          const dataTable =\n",
              "            await google.colab.kernel.invokeFunction('convertToInteractive',\n",
              "                                                     [key], {});\n",
              "          if (!dataTable) return;\n",
              "\n",
              "          const docLinkHtml = 'Like what you see? Visit the ' +\n",
              "            '<a target=\"_blank\" href=https://colab.research.google.com/notebooks/data_table.ipynb>data table notebook</a>'\n",
              "            + ' to learn more about interactive tables.';\n",
              "          element.innerHTML = '';\n",
              "          dataTable['output_type'] = 'display_data';\n",
              "          await google.colab.output.renderOutput(dataTable, element);\n",
              "          const docLink = document.createElement('div');\n",
              "          docLink.innerHTML = docLinkHtml;\n",
              "          element.appendChild(docLink);\n",
              "        }\n",
              "      </script>\n",
              "    </div>\n",
              "  </div>\n",
              "  "
            ]
          },
          "metadata": {},
          "execution_count": 26
        }
      ],
      "source": [
        "visits_day_time = visits_day_time.pivot_table(values='counts', index='time', columns='weekday')\n",
        "visits_day_time.head()"
      ]
    },
    {
      "cell_type": "code",
      "execution_count": 27,
      "metadata": {
        "id": "166428d4"
      },
      "outputs": [],
      "source": [
        "heatmap_title = html.P(className='chart-header', children='Periodos clave de actividad')"
      ]
    },
    {
      "cell_type": "code",
      "execution_count": 28,
      "metadata": {
        "id": "cc0e3f6e"
      },
      "outputs": [],
      "source": [
        "heatmap_figure= go.Figure(\n",
        "    data=go.Heatmap(\n",
        "        x=visits_day_time.columns.tolist(),\n",
        "        y=visits_day_time.index.tolist(),\n",
        "        z=visits_day_time.values.tolist(),\n",
        "        autocolorscale=True,\n",
        "        xgap=4,\n",
        "        ygap=1\n",
        "    )\n",
        ")\n",
        "layout= heatmap_figure.layout.yaxis.update(autorange='reversed', tickvals=[0,6,12,18], ticktext=['12 AM', '6 AM', '12 PM', '6 PM'])"
      ]
    },
    {
      "cell_type": "code",
      "source": [
        "heatmap_graph= dcc.Graph(figure=heatmap_figure, className='graph')"
      ],
      "metadata": {
        "id": "uX05oJzd4cpC"
      },
      "execution_count": 29,
      "outputs": []
    },
    {
      "cell_type": "markdown",
      "metadata": {
        "id": "28545944"
      },
      "source": [
        "#### Distribution by country"
      ]
    },
    {
      "cell_type": "code",
      "execution_count": 30,
      "metadata": {
        "id": "00181b26"
      },
      "outputs": [],
      "source": [
        "country_title = html.P(className= 'chart-header', children = 'Visitas por país')"
      ]
    },
    {
      "cell_type": "code",
      "execution_count": 31,
      "metadata": {
        "id": "80f28b11"
      },
      "outputs": [],
      "source": [
        "country_figure= px.histogram(dataset, x='country', color='country')\n",
        "layout= country_figure.layout.update(showlegend= False)"
      ]
    },
    {
      "cell_type": "code",
      "execution_count": 32,
      "metadata": {
        "id": "736cf81c"
      },
      "outputs": [],
      "source": [
        "country_graph= dcc.Graph(figure=country_figure, className='graph')"
      ]
    },
    {
      "cell_type": "code",
      "execution_count": 33,
      "metadata": {
        "id": "b91c3500"
      },
      "outputs": [],
      "source": [
        "third_row = html.Div(\n",
        "    className= 'graph-row',\n",
        "    children=[\n",
        "              html.Div(\n",
        "                  className='graph-container',\n",
        "                  children=[\n",
        "                            heatmap_title,\n",
        "                            heatmap_graph\n",
        "                  ]\n",
        "              ),\n",
        "              html.Div(\n",
        "                  className='graph-container',\n",
        "                  children=[\n",
        "                            country_title,\n",
        "                            country_graph\n",
        "                  ]\n",
        "              )\n",
        "    ]\n",
        ")"
      ]
    },
    {
      "cell_type": "markdown",
      "metadata": {
        "id": "6581c71e"
      },
      "source": [
        "#### Create the dashboard"
      ]
    },
    {
      "cell_type": "code",
      "execution_count": 34,
      "metadata": {
        "id": "505aca3c"
      },
      "outputs": [],
      "source": [
        "app.layout= html.Div(\n",
        "    id='root',\n",
        "    children=[\n",
        "             header,\n",
        "              first_row,\n",
        "              second_row,\n",
        "              third_row\n",
        "    ]\n",
        ")"
      ]
    },
    {
      "cell_type": "code",
      "execution_count": 35,
      "metadata": {
        "id": "dc587996",
        "colab": {
          "base_uri": "https://localhost:8080/",
          "height": 52
        },
        "outputId": "169b14d7-d522-4df5-8113-d95f47ec1287"
      },
      "outputs": [
        {
          "output_type": "stream",
          "name": "stdout",
          "text": [
            "Dash app running on:\n"
          ]
        },
        {
          "output_type": "display_data",
          "data": {
            "text/plain": [
              "<IPython.core.display.Javascript object>"
            ],
            "application/javascript": [
              "(async (port, path, text, element) => {\n",
              "    if (!google.colab.kernel.accessAllowed) {\n",
              "      return;\n",
              "    }\n",
              "    element.appendChild(document.createTextNode(''));\n",
              "    const url = await google.colab.kernel.proxyPort(port);\n",
              "    const anchor = document.createElement('a');\n",
              "    anchor.href = new URL(path, url).toString();\n",
              "    anchor.target = '_blank';\n",
              "    anchor.setAttribute('data-href', url + path);\n",
              "    anchor.textContent = text;\n",
              "    element.appendChild(anchor);\n",
              "  })(8050, \"/\", \"http://127.0.0.1:8050/\", window.element)"
            ]
          },
          "metadata": {}
        }
      ],
      "source": [
        "app.run_server(debug=True, mode='external')"
      ]
    }
  ]
}